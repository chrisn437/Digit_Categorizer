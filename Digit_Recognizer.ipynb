{
 "cells": [
  {
   "cell_type": "markdown",
   "id": "a2ba60c5",
   "metadata": {},
   "source": [
    "# Digit classification"
   ]
  },
  {
   "cell_type": "markdown",
   "id": "2d032b02",
   "metadata": {},
   "source": [
    "## Importing packeges and libraries"
   ]
  },
  {
   "cell_type": "code",
   "execution_count": 1,
   "id": "9bf9846c",
   "metadata": {},
   "outputs": [],
   "source": [
    "import pandas as pd\n",
    "import numpy as np\n",
    "import matplotlib.pyplot as plt\n",
    "import matplotlib.image as mpimg\n",
    "import seaborn as sns\n",
    "%matplotlib inline"
   ]
  },
  {
   "cell_type": "markdown",
   "id": "adc5c520",
   "metadata": {},
   "source": [
    "## Importing the data"
   ]
  },
  {
   "cell_type": "code",
   "execution_count": 2,
   "id": "9bcd033d",
   "metadata": {},
   "outputs": [],
   "source": [
    "dc_train = pd.read_csv(\"C:\\\\AAU\\\\miniproject\\\\train.csv\")\n",
    "dc_test = pd.read_csv(\"C:\\\\AAU\\\\miniproject\\\\test.csv\")\n",
    "sub = pd.read_csv(\"C:\\\\AAU\\\\miniproject\\\\sample_submission.csv\")"
   ]
  },
  {
   "cell_type": "markdown",
   "id": "15e6c370",
   "metadata": {},
   "source": [
    "### Exploring the Dataset"
   ]
  },
  {
   "cell_type": "code",
   "execution_count": 3,
   "id": "3beb9c2f",
   "metadata": {
    "scrolled": true
   },
   "outputs": [
    {
     "name": "stdout",
     "output_type": "stream",
     "text": [
      "       label  pixel0  pixel1  pixel2  pixel3  pixel4  pixel5  pixel6  pixel7  \\\n",
      "0          1       0       0       0       0       0       0       0       0   \n",
      "1          0       0       0       0       0       0       0       0       0   \n",
      "2          1       0       0       0       0       0       0       0       0   \n",
      "3          4       0       0       0       0       0       0       0       0   \n",
      "4          0       0       0       0       0       0       0       0       0   \n",
      "...      ...     ...     ...     ...     ...     ...     ...     ...     ...   \n",
      "41995      0       0       0       0       0       0       0       0       0   \n",
      "41996      1       0       0       0       0       0       0       0       0   \n",
      "41997      7       0       0       0       0       0       0       0       0   \n",
      "41998      6       0       0       0       0       0       0       0       0   \n",
      "41999      9       0       0       0       0       0       0       0       0   \n",
      "\n",
      "       pixel8  ...  pixel774  pixel775  pixel776  pixel777  pixel778  \\\n",
      "0           0  ...         0         0         0         0         0   \n",
      "1           0  ...         0         0         0         0         0   \n",
      "2           0  ...         0         0         0         0         0   \n",
      "3           0  ...         0         0         0         0         0   \n",
      "4           0  ...         0         0         0         0         0   \n",
      "...       ...  ...       ...       ...       ...       ...       ...   \n",
      "41995       0  ...         0         0         0         0         0   \n",
      "41996       0  ...         0         0         0         0         0   \n",
      "41997       0  ...         0         0         0         0         0   \n",
      "41998       0  ...         0         0         0         0         0   \n",
      "41999       0  ...         0         0         0         0         0   \n",
      "\n",
      "       pixel779  pixel780  pixel781  pixel782  pixel783  \n",
      "0             0         0         0         0         0  \n",
      "1             0         0         0         0         0  \n",
      "2             0         0         0         0         0  \n",
      "3             0         0         0         0         0  \n",
      "4             0         0         0         0         0  \n",
      "...         ...       ...       ...       ...       ...  \n",
      "41995         0         0         0         0         0  \n",
      "41996         0         0         0         0         0  \n",
      "41997         0         0         0         0         0  \n",
      "41998         0         0         0         0         0  \n",
      "41999         0         0         0         0         0  \n",
      "\n",
      "[42000 rows x 785 columns]\n",
      "       pixel0  pixel1  pixel2  pixel3  pixel4  pixel5  pixel6  pixel7  pixel8  \\\n",
      "0           0       0       0       0       0       0       0       0       0   \n",
      "1           0       0       0       0       0       0       0       0       0   \n",
      "2           0       0       0       0       0       0       0       0       0   \n",
      "3           0       0       0       0       0       0       0       0       0   \n",
      "4           0       0       0       0       0       0       0       0       0   \n",
      "...       ...     ...     ...     ...     ...     ...     ...     ...     ...   \n",
      "27995       0       0       0       0       0       0       0       0       0   \n",
      "27996       0       0       0       0       0       0       0       0       0   \n",
      "27997       0       0       0       0       0       0       0       0       0   \n",
      "27998       0       0       0       0       0       0       0       0       0   \n",
      "27999       0       0       0       0       0       0       0       0       0   \n",
      "\n",
      "       pixel9  ...  pixel774  pixel775  pixel776  pixel777  pixel778  \\\n",
      "0           0  ...         0         0         0         0         0   \n",
      "1           0  ...         0         0         0         0         0   \n",
      "2           0  ...         0         0         0         0         0   \n",
      "3           0  ...         0         0         0         0         0   \n",
      "4           0  ...         0         0         0         0         0   \n",
      "...       ...  ...       ...       ...       ...       ...       ...   \n",
      "27995       0  ...         0         0         0         0         0   \n",
      "27996       0  ...         0         0         0         0         0   \n",
      "27997       0  ...         0         0         0         0         0   \n",
      "27998       0  ...         0         0         0         0         0   \n",
      "27999       0  ...         0         0         0         0         0   \n",
      "\n",
      "       pixel779  pixel780  pixel781  pixel782  pixel783  \n",
      "0             0         0         0         0         0  \n",
      "1             0         0         0         0         0  \n",
      "2             0         0         0         0         0  \n",
      "3             0         0         0         0         0  \n",
      "4             0         0         0         0         0  \n",
      "...         ...       ...       ...       ...       ...  \n",
      "27995         0         0         0         0         0  \n",
      "27996         0         0         0         0         0  \n",
      "27997         0         0         0         0         0  \n",
      "27998         0         0         0         0         0  \n",
      "27999         0         0         0         0         0  \n",
      "\n",
      "[28000 rows x 784 columns]\n"
     ]
    }
   ],
   "source": [
    "# Printing out what information is stored in the tables\n",
    "print(dc_train)\n",
    "print(dc_test)"
   ]
  },
  {
   "cell_type": "code",
   "execution_count": 4,
   "id": "3f7fcccf",
   "metadata": {},
   "outputs": [],
   "source": [
    "# Here we see that the training-set has the label column,784 pixel columns, and 42,000 rows, which contain the pixel values\n",
    "# The test-set is very simular, with the difference that there is no label column and there are 28,000 rows"
   ]
  },
  {
   "cell_type": "code",
   "execution_count": 5,
   "id": "6c9e7d02",
   "metadata": {},
   "outputs": [
    {
     "name": "stdout",
     "output_type": "stream",
     "text": [
      "<class 'pandas.core.frame.DataFrame'>\n",
      "RangeIndex: 42000 entries, 0 to 41999\n",
      "Columns: 785 entries, label to pixel783\n",
      "dtypes: int64(785)\n",
      "memory usage: 251.5 MB\n"
     ]
    }
   ],
   "source": [
    "dc_train.info()"
   ]
  },
  {
   "cell_type": "code",
   "execution_count": 6,
   "id": "bfa4f18b",
   "metadata": {},
   "outputs": [
    {
     "name": "stdout",
     "output_type": "stream",
     "text": [
      "(42000, 784) (42000,)\n"
     ]
    }
   ],
   "source": [
    "# Removing the label column from the Training-Dataset\n",
    "dc_label = dc_train['label']\n",
    "dc_train.drop(['label'], axis=1, inplace=True)\n",
    "print(dc_train.shape, dc_label.shape)"
   ]
  },
  {
   "cell_type": "code",
   "execution_count": 7,
   "id": "e03607ed",
   "metadata": {},
   "outputs": [
    {
     "name": "stdout",
     "output_type": "stream",
     "text": [
      "       labels\n",
      "0           1\n",
      "1           0\n",
      "2           1\n",
      "3           4\n",
      "4           0\n",
      "...       ...\n",
      "41995       0\n",
      "41996       1\n",
      "41997       7\n",
      "41998       6\n",
      "41999       9\n",
      "\n",
      "[42000 rows x 1 columns]\n"
     ]
    }
   ],
   "source": [
    "labels_normtest = pd.DataFrame({'labels': dc_label})\n",
    "\n",
    "print(labels_normtest)\n",
    "labels_normtest.to_csv('labels_normtest.csv', index= False)"
   ]
  },
  {
   "cell_type": "markdown",
   "id": "2d1cf158",
   "metadata": {},
   "source": [
    "### Looking at the digit distribution of the Dataset"
   ]
  },
  {
   "cell_type": "code",
   "execution_count": 8,
   "id": "056a242e",
   "metadata": {},
   "outputs": [],
   "source": [
    "# Ignore warnings so that they are not displayed above the countplot\n",
    "import warnings\n",
    "warnings.filterwarnings('ignore')"
   ]
  },
  {
   "cell_type": "code",
   "execution_count": 9,
   "id": "8e9f495f",
   "metadata": {
    "scrolled": true
   },
   "outputs": [
    {
     "name": "stdout",
     "output_type": "stream",
     "text": [
      "1    4684\n",
      "7    4401\n",
      "3    4351\n",
      "9    4188\n",
      "2    4177\n",
      "6    4137\n",
      "0    4132\n",
      "4    4072\n",
      "8    4063\n",
      "5    3795\n",
      "Name: label, dtype: int64\n"
     ]
    },
    {
     "data": {
      "image/png": "[encoded data removed]",
      "text/plain": [
       "<Figure size 432x288 with 1 Axes>"
      ]
     },
     "metadata": {
      "needs_background": "light"
     },
     "output_type": "display_data"
    }
   ],
   "source": [
    "# Vilsualizing the distribution of the digits and getting the sum of each digit\n",
    "print(dc_label.value_counts())\n",
    "sns.countplot(dc_label)\n",
    "labels = dc_label.value_counts()"
   ]
  },
  {
   "cell_type": "code",
   "execution_count": 10,
   "id": "9e3afd2a",
   "metadata": {},
   "outputs": [
    {
     "name": "stdout",
     "output_type": "stream",
     "text": [
      "The average amount of digits in the data set is: 4200.0 and the standard diviation is: 224.92265337222037\n"
     ]
    }
   ],
   "source": [
    "# Calculating the standard deviation\n",
    "std=np.std(labels)\n",
    "# Calculating the mean/ average\n",
    "mean=np.mean(labels)\n",
    "\n",
    "print(\"The average amount of digits in the data set is: {0} and the standard diviation is: {1}\".format(mean, std))"
   ]
  },
  {
   "cell_type": "code",
   "execution_count": 11,
   "id": "edb34082",
   "metadata": {},
   "outputs": [],
   "source": [
    "# It is noticeable that there are fewer 5s in the data set and more 1s."
   ]
  },
  {
   "cell_type": "markdown",
   "id": "103ab26b",
   "metadata": {},
   "source": [
    "### Looking at the pixel-values and their frequency (0-black, 255-white)"
   ]
  },
  {
   "cell_type": "code",
   "execution_count": 12,
   "id": "d8038c6d",
   "metadata": {},
   "outputs": [
    {
     "data": {
      "text/plain": [
       "Text(0, 0.5, 'Frequency')"
      ]
     },
     "execution_count": 12,
     "metadata": {},
     "output_type": "execute_result"
    },
    {
     "data": {
      "image/png": "[encoded data removed]",
      "text/plain": [
       "<Figure size 576x576 with 1 Axes>"
      ]
     },
     "metadata": {
      "needs_background": "light"
     },
     "output_type": "display_data"
    }
   ],
   "source": [
    "# Getting the pixel values, sorting them and then saving it to the y-varialbe(list) / which becomes the y axies\n",
    "y = pd.value_counts(dc_train.values.ravel()).sort_index()\n",
    "# Saving the length of the list\n",
    "N = len(y)\n",
    "# Defning the x-axies, so that every pixelvalue get's represented by a bar\n",
    "x = range(N)\n",
    "# Defining the size of the plot\n",
    "width =0.9\n",
    "plt.figure(figsize=[8,8])\n",
    "# Creating the bar plot and description of the axes\n",
    "plt.bar(x, y, width, color=\"blue\")\n",
    "plt.title('Pixel Value Frequency')\n",
    "plt.yscale('log')\n",
    "plt.xlabel('Pixel Value (0-255)')\n",
    "plt.ylabel('Frequency')"
   ]
  },
  {
   "cell_type": "markdown",
   "id": "37687f84",
   "metadata": {},
   "source": [
    "Most pixel values are at 0, which was to be expected since the numbers are white (Pixelvalue of 255) and the background is black (Pixelvalue of 0). It is visible that almost all pixel values are represented. Otherwise, there are no outliers or overshoots."
   ]
  },
  {
   "cell_type": "markdown",
   "id": "630d6b7f",
   "metadata": {},
   "source": [
    "### Visualizing some arbitrary digits"
   ]
  },
  {
   "cell_type": "code",
   "execution_count": 13,
   "id": "dc829abc",
   "metadata": {
    "scrolled": true
   },
   "outputs": [
    {
     "data": {
      "image/png": "[encoded data removed]",
      "text/plain": [
       "<Figure size 864x360 with 10 Axes>"
      ]
     },
     "metadata": {
      "needs_background": "light"
     },
     "output_type": "display_data"
    },
    {
     "name": "stdout",
     "output_type": "stream",
     "text": [
      "(42000, 784)\n"
     ]
    }
   ],
   "source": [
    "fig, axes = plt.subplots(2,5, figsize=(12,5))\n",
    "axes = axes.flatten()\n",
    "idx = np.random.randint(0,4199,size=10)\n",
    "for i in range(10):\n",
    "    # Converting 1D array to 2D 28x28 array using reshape, to plot and view the digits.\n",
    "    axes[i].imshow(dc_train.iloc[idx[i],:].values.reshape(28,28), cmap='gray')\n",
    "    axes[i].axis('off') # hide the axes ticks\n",
    "    axes[i].set_title(str(int(dc_label[idx[i]])), color= 'black', fontsize=25)\n",
    "plt.show()\n",
    "print(dc_train.shape)"
   ]
  },
  {
   "cell_type": "markdown",
   "id": "588c62e0",
   "metadata": {},
   "source": [
    "These digits look okay so far. However, when looking at several numbers (codecell refresh), there are some very indistinct handwritten numbers."
   ]
  },
  {
   "cell_type": "markdown",
   "id": "f6a23cde",
   "metadata": {},
   "source": [
    "### Importing scikit-learn library to build and train the SVM and KNN models"
   ]
  },
  {
   "cell_type": "code",
   "execution_count": 14,
   "id": "3792841a",
   "metadata": {},
   "outputs": [],
   "source": [
    "from __future__ import print_function\n",
    "\n",
    "from sklearn import metrics\n",
    "\n",
    "from sklearn.metrics import classification_report\n",
    "from sklearn.metrics import confusion_matrix\n",
    "\n",
    "from sklearn.svm import SVC\n",
    "from sklearn.neighbors import KNeighborsClassifier\n",
    "\n",
    "from sklearn.preprocessing import StandardScaler\n",
    "\n",
    "from sklearn.model_selection import train_test_split\n",
    "from sklearn.model_selection import KFold\n",
    "from sklearn.model_selection import cross_val_score\n",
    "from sklearn.model_selection import GridSearchCV, RandomizedSearchCV"
   ]
  },
  {
   "cell_type": "code",
   "execution_count": 15,
   "id": "1c2f3f48",
   "metadata": {},
   "outputs": [],
   "source": [
    "# Preprocessing the data by using the Standard scaler\n",
    "scaler = StandardScaler()\n",
    "# Transform the data\n",
    "X_scaled = scaler.fit_transform(dc_train)\n",
    "x_test = scaler.fit_transform(dc_test)\n",
    "\n",
    "# Randomizing the training set into training- and testing-subset, because we know the outcome (label/digit)\n",
    "X_train, Y_train, X_labels, Y_labels = train_test_split(X_scaled, dc_label, train_size=0.2, test_size=0.8, random_state=42)"
   ]
  },
  {
   "cell_type": "code",
   "execution_count": 16,
   "id": "b249e37c",
   "metadata": {},
   "outputs": [
    {
     "data": {
      "image/png": "[encoded data removed]",
      "text/plain": [
       "<Figure size 864x360 with 10 Axes>"
      ]
     },
     "metadata": {
      "needs_background": "light"
     },
     "output_type": "display_data"
    },
    {
     "name": "stdout",
     "output_type": "stream",
     "text": [
      "(33600, 784)\n"
     ]
    }
   ],
   "source": [
    "# Visualizing random digits after scaling\n",
    "fig, axes = plt.subplots(2,5, figsize=(12,5))\n",
    "axes = axes.flatten()\n",
    "idx = np.random.randint(0,33599,size=10)\n",
    "for i in range(10):\n",
    "    axes[i].imshow(Y_train[idx[i],:].reshape(28, 28), cmap='gray')\n",
    "    axes[i].axis('off') # hide the axes ticks\n",
    "    axes[i].set_title(Y_labels.iloc[idx[i]])\n",
    "plt.show()\n",
    "print(Y_train.shape)"
   ]
  },
  {
   "cell_type": "code",
   "execution_count": 17,
   "id": "f914158b",
   "metadata": {
    "scrolled": true
   },
   "outputs": [
    {
     "name": "stdout",
     "output_type": "stream",
     "text": [
      "X_train shape: (8400, 784)\n",
      "X_labels shape: (8400,)\n",
      "Y_train shape: (33600, 784)\n",
      "Y_labels shape: (33600,)\n"
     ]
    }
   ],
   "source": [
    "print('X_train shape:',X_train.shape)\n",
    "print('X_labels shape:',X_labels.shape)\n",
    "print('Y_train shape:',Y_train.shape)\n",
    "print('Y_labels shape:',Y_labels.shape)"
   ]
  },
  {
   "cell_type": "code",
   "execution_count": 19,
   "id": "c6c3f8b5",
   "metadata": {},
   "outputs": [],
   "source": [
    "# The whole training-set consisted of 42.000 digits; now divided into \n",
    "# 80%=33.600=training-sbuset, 20%=8.400=training_test-subset"
   ]
  },
  {
   "cell_type": "markdown",
   "id": "abd6659e",
   "metadata": {},
   "source": [
    "## Starting with the SVM models"
   ]
  },
  {
   "cell_type": "markdown",
   "id": "a9b35c81",
   "metadata": {},
   "source": [
    "### 1st try with a linear model:"
   ]
  },
  {
   "cell_type": "code",
   "execution_count": 41,
   "id": "2f50c42e",
   "metadata": {
    "scrolled": true
   },
   "outputs": [],
   "source": [
    "# Setting up the model\n",
    "model_linear = SVC(kernel='linear')\n",
    "\n",
    "# Training the model\n",
    "model_linear.fit(Y_train, Y_labels)\n",
    "\n",
    "# Predicting the digits of the test-subset based on the previous training\n",
    "x_pred = model_linear.predict(X_train)"
   ]
  },
  {
   "cell_type": "code",
   "execution_count": 42,
   "id": "41091372",
   "metadata": {},
   "outputs": [
    {
     "name": "stdout",
     "output_type": "stream",
     "text": [
      "accuracy: 0.9201190476190476 \n",
      "\n",
      "[[778   0   3   2   2   4   6   0   3   0]\n",
      " [  0 900   3   1   3   2   1   3   7   0]\n",
      " [  3   8 729  19   9   4   5   4  15   1]\n",
      " [  3   3  18 788   1  20   0   3  14   8]\n",
      " [  1   2  19   0 761   1   1   5   2  21]\n",
      " [  6   6  10  38   1 685   2   1  17   6]\n",
      " [  7   4  17   2   9   8 801   0   1   0]\n",
      " [  3   4  12   5   9   1   0 857   1  37]\n",
      " [  9  22  17  22   7  22   6   8 693   4]\n",
      " [  5   2  11  11  46   4   1  33   4 737]]\n"
     ]
    }
   ],
   "source": [
    "# Visualizing and getting data of the outcome (confusion matrix, accuracy, precision, f1-score & recall)\n",
    "\n",
    "# Calculation the accuracy\n",
    "print(\"accuracy:\", metrics.accuracy_score(y_true=X_labels, y_pred=x_pred), \"\\n\")\n",
    "\n",
    "# Visualizing the confusion matrix\n",
    "print(metrics.confusion_matrix(y_true=X_labels, y_pred=x_pred))"
   ]
  },
  {
   "cell_type": "code",
   "execution_count": 43,
   "id": "3b8062fe",
   "metadata": {},
   "outputs": [
    {
     "name": "stdout",
     "output_type": "stream",
     "text": [
      "              precision    recall  f1-score   support\n",
      "\n",
      "           0       0.95      0.97      0.96       798\n",
      "           1       0.95      0.98      0.96       920\n",
      "           2       0.87      0.91      0.89       797\n",
      "           3       0.89      0.92      0.90       858\n",
      "           4       0.90      0.94      0.92       813\n",
      "           5       0.91      0.89      0.90       772\n",
      "           6       0.97      0.94      0.96       849\n",
      "           7       0.94      0.92      0.93       929\n",
      "           8       0.92      0.86      0.88       810\n",
      "           9       0.91      0.86      0.88       854\n",
      "\n",
      "    accuracy                           0.92      8400\n",
      "   macro avg       0.92      0.92      0.92      8400\n",
      "weighted avg       0.92      0.92      0.92      8400\n",
      "\n"
     ]
    }
   ],
   "source": [
    "# Getting precision, recall & f1-score\n",
    "\n",
    "scores=metrics.classification_report(X_labels, x_pred, labels=[0, 1, 2, 3, 4, 5, 6, 7, 8, 9])\n",
    "print(scores)"
   ]
  },
  {
   "cell_type": "code",
   "execution_count": 44,
   "id": "6f34edcc",
   "metadata": {},
   "outputs": [],
   "source": [
    "#  ≈ 92% accuracy/ weighted avg precision, refall & f1-score. "
   ]
  },
  {
   "cell_type": "markdown",
   "id": "47fc9d1b",
   "metadata": {},
   "source": [
    "### 2nd try with a non-linear and poly kernel approach"
   ]
  },
  {
   "cell_type": "code",
   "execution_count": 45,
   "id": "706912c0",
   "metadata": {},
   "outputs": [],
   "source": [
    "# Setting up the model\n",
    "non_linear_model_poly = SVC(kernel='poly')\n",
    "\n",
    "# Training the model\n",
    "non_linear_model_poly.fit(Y_train, Y_labels)\n",
    "\n",
    "# Predictiing the outcome based on test-subset\n",
    "x_pred = non_linear_model_poly.predict(X_train)"
   ]
  },
  {
   "cell_type": "code",
   "execution_count": 46,
   "id": "3c9bed3c",
   "metadata": {},
   "outputs": [
    {
     "name": "stdout",
     "output_type": "stream",
     "text": [
      "accuracy: 0.9519047619047619 \n",
      "\n",
      "[[761   0   4   1   1   3   5   0  23   0]\n",
      " [  0 902   3   0   3   1   3   1   7   0]\n",
      " [  3   1 748   6   8   0   0   1  28   2]\n",
      " [  2   2   7 809   0  10   1   4  20   3]\n",
      " [  0   2   4   0 790   0   3   1   1  12]\n",
      " [  1   0   1   7   5 733   2   1  13   9]\n",
      " [  2   2   2   0   5   7 820   0  11   0]\n",
      " [  2   5   7   2  22   0   0 855   4  32]\n",
      " [  0   3   3   6   6   4   1   1 783   3]\n",
      " [  3   1   4   5  26   3   0   6  11 795]]\n"
     ]
    }
   ],
   "source": [
    "# Visualizing and getting data of the outcome (confusion matrix, accuracy)\n",
    "\n",
    "# Calculation the accuracy\n",
    "print(\"accuracy:\", metrics.accuracy_score(y_true=X_labels, y_pred=x_pred), \"\\n\")\n",
    "\n",
    "# Visualizing the confusion matrix\n",
    "print(metrics.confusion_matrix(y_true=X_labels, y_pred=x_pred))"
   ]
  },
  {
   "cell_type": "code",
   "execution_count": 47,
   "id": "695d3f82",
   "metadata": {},
   "outputs": [
    {
     "name": "stdout",
     "output_type": "stream",
     "text": [
      "              precision    recall  f1-score   support\n",
      "\n",
      "           0       0.98      0.95      0.97       798\n",
      "           1       0.98      0.98      0.98       920\n",
      "           2       0.96      0.94      0.95       797\n",
      "           3       0.97      0.94      0.96       858\n",
      "           4       0.91      0.97      0.94       813\n",
      "           5       0.96      0.95      0.96       772\n",
      "           6       0.98      0.97      0.97       849\n",
      "           7       0.98      0.92      0.95       929\n",
      "           8       0.87      0.97      0.92       810\n",
      "           9       0.93      0.93      0.93       854\n",
      "\n",
      "    accuracy                           0.95      8400\n",
      "   macro avg       0.95      0.95      0.95      8400\n",
      "weighted avg       0.95      0.95      0.95      8400\n",
      "\n"
     ]
    }
   ],
   "source": [
    "# Getting precision, recall & f1-score\n",
    "\n",
    "scores=metrics.classification_report(X_labels, x_pred, labels=[0, 1, 2, 3, 4, 5, 6, 7, 8, 9])\n",
    "print(scores)"
   ]
  },
  {
   "cell_type": "code",
   "execution_count": 48,
   "id": "5cea329f",
   "metadata": {},
   "outputs": [],
   "source": [
    "# The accuracy, weighted avg precision, refall & f1-score ≈ 95% is the best so far. So let's try the Rbf-Kernal"
   ]
  },
  {
   "cell_type": "markdown",
   "id": "48d0b2ae",
   "metadata": {},
   "source": [
    "### 3rd try with non-linear and rbf kernal approach"
   ]
  },
  {
   "cell_type": "code",
   "execution_count": 49,
   "id": "d2d5b14c",
   "metadata": {},
   "outputs": [],
   "source": [
    "# Setting up the model\n",
    "non_linear_model = SVC(kernel='rbf')\n",
    "\n",
    "# Training the model\n",
    "non_linear_model.fit(Y_train, Y_labels)\n",
    "\n",
    "# Predictiing the outcome based on test-subset\n",
    "x_pred = non_linear_model.predict(X_train)"
   ]
  },
  {
   "cell_type": "code",
   "execution_count": 50,
   "id": "10b87d83",
   "metadata": {},
   "outputs": [
    {
     "name": "stdout",
     "output_type": "stream",
     "text": [
      "accuracy: 0.9592857142857143 \n",
      "\n",
      "[[781   0   3   1   1   3   3   1   5   0]\n",
      " [  0 906   5   1   3   0   2   1   2   0]\n",
      " [  3   0 776   7   4   0   0   1   4   2]\n",
      " [  0   3  15 818   0   8   1   5   6   2]\n",
      " [  0   2   8   0 784   0   3   4   1  11]\n",
      " [  1   2   9  11   0 741   3   2   1   2]\n",
      " [  2   1  15   0   2   7 820   0   2   0]\n",
      " [  1   7  13   2   3   0   1 883   1  18]\n",
      " [  2   8   9   6   5   6   5   7 758   4]\n",
      " [  1   0  12   7  14   1   0  21   7 791]]\n"
     ]
    }
   ],
   "source": [
    "# Visualizing and getting data of the outcome (confusion matrix, accuracy, precision & recall)\n",
    "\n",
    "# Calculation the accuracy\n",
    "print(\"accuracy:\", metrics.accuracy_score(y_true=X_labels, y_pred=x_pred), \"\\n\")\n",
    "\n",
    "# Visualizing the confusion matrix\n",
    "print(metrics.confusion_matrix(y_true=X_labels, y_pred=x_pred))"
   ]
  },
  {
   "cell_type": "code",
   "execution_count": 51,
   "id": "6b1999c7",
   "metadata": {},
   "outputs": [
    {
     "name": "stdout",
     "output_type": "stream",
     "text": [
      "              precision    recall  f1-score   support\n",
      "\n",
      "           0       0.99      0.98      0.98       798\n",
      "           1       0.98      0.98      0.98       920\n",
      "           2       0.90      0.97      0.93       797\n",
      "           3       0.96      0.95      0.96       858\n",
      "           4       0.96      0.96      0.96       813\n",
      "           5       0.97      0.96      0.96       772\n",
      "           6       0.98      0.97      0.97       849\n",
      "           7       0.95      0.95      0.95       929\n",
      "           8       0.96      0.94      0.95       810\n",
      "           9       0.95      0.93      0.94       854\n",
      "\n",
      "    accuracy                           0.96      8400\n",
      "   macro avg       0.96      0.96      0.96      8400\n",
      "weighted avg       0.96      0.96      0.96      8400\n",
      "\n"
     ]
    }
   ],
   "source": [
    "# Getting precision, recall & f1-score\n",
    "\n",
    "scores=metrics.classification_report(X_labels, x_pred, labels=[0, 1, 2, 3, 4, 5, 6, 7, 8, 9])\n",
    "print(scores)"
   ]
  },
  {
   "cell_type": "code",
   "execution_count": 52,
   "id": "53e8f9b4",
   "metadata": {},
   "outputs": [],
   "source": [
    "#  ≈ 96% accuracy/ weighted avg precision, refall & f1-score is the best from the approaches above. "
   ]
  },
  {
   "cell_type": "markdown",
   "id": "91f022ba",
   "metadata": {},
   "source": [
    "### Doing PCA for dimension reduction before hyperparameter tuning"
   ]
  },
  {
   "cell_type": "code",
   "execution_count": 17,
   "id": "5dd62add",
   "metadata": {},
   "outputs": [],
   "source": [
    "from sklearn.decomposition import PCA as sklearnPCA"
   ]
  },
  {
   "cell_type": "code",
   "execution_count": 18,
   "id": "b0221c9a",
   "metadata": {},
   "outputs": [
    {
     "data": {
      "text/plain": [
       "Text(0, 0.5, 'Variance')"
      ]
     },
     "execution_count": 18,
     "metadata": {},
     "output_type": "execute_result"
    },
    {
     "data": {
      "image/png": "[encoded data removed]",
      "text/plain": [
       "<Figure size 2160x720 with 1 Axes>"
      ]
     },
     "metadata": {
      "needs_background": "light"
     },
     "output_type": "display_data"
    }
   ],
   "source": [
    "sklearn_pca = sklearnPCA().fit(Y_train)\n",
    "X_train_pca = sklearnPCA().fit(X_train)\n",
    "Y_train_pca = sklearnPCA().fit(Y_train)\n",
    "X_test_pca = sklearnPCA().fit(x_test)\n",
    "\n",
    "var_per = Y_train_pca.explained_variance_ratio_\n",
    "cum_var_per = Y_train_pca.explained_variance_ratio_.cumsum()\n",
    "\n",
    "plt.figure(figsize=(30,10))\n",
    "ind = np.arange(len(var_per)) \n",
    "plt.bar(ind,var_per)\n",
    "plt.xlabel('n_components')\n",
    "plt.ylabel('Variance')"
   ]
  },
  {
   "cell_type": "code",
   "execution_count": 19,
   "id": "e350dafb",
   "metadata": {},
   "outputs": [
    {
     "name": "stdout",
     "output_type": "stream",
     "text": [
      "Keeping 90% Info with  222  components\n",
      "Shape before PCA for Train:  (8400, 784)\n",
      "Shape after PCA for Train:  (8400, 222)\n",
      "Shape before PCA for Test:  (33600, 784)\n",
      "Shape after PCA for Test:  (33600, 222)\n"
     ]
    }
   ],
   "source": [
    "n_comp=len(cum_var_per[cum_var_per <= 0.90])\n",
    "print(\"Keeping 90% Info with \",n_comp,\" components\")\n",
    "sklearn_pca = sklearnPCA(n_components=n_comp)\n",
    "train_pca = sklearn_pca.fit_transform(Y_train)\n",
    "test_pca = sklearn_pca.transform(X_train)\n",
    "print(\"Shape before PCA for Train: \",X_train.shape)\n",
    "print(\"Shape after PCA for Train: \",test_pca.shape)\n",
    "print(\"Shape before PCA for Test: \",Y_train.shape)\n",
    "print(\"Shape after PCA for Test: \",train_pca.shape)"
   ]
  },
  {
   "cell_type": "code",
   "execution_count": null,
   "id": "128113d6",
   "metadata": {},
   "outputs": [],
   "source": []
  },
  {
   "cell_type": "code",
   "execution_count": null,
   "id": "b080bcb0",
   "metadata": {},
   "outputs": [],
   "source": []
  },
  {
   "cell_type": "markdown",
   "id": "5c6041ed",
   "metadata": {},
   "source": [
    "### Figuring out which hyperparmaters are optimal"
   ]
  },
  {
   "cell_type": "code",
   "execution_count": 20,
   "id": "d325bb32",
   "metadata": {},
   "outputs": [
    {
     "name": "stdout",
     "output_type": "stream",
     "text": [
      "Fitting 3 folds for each of 9 candidates, totalling 27 fits\n"
     ]
    },
    {
     "data": {
      "text/plain": [
       "GridSearchCV(cv=3, estimator=SVC(), n_jobs=-1,\n",
       "             param_grid={'C': [100, 10, 1], 'gamma': [0.1, 0.01, 0.001]},\n",
       "             return_train_score=True, verbose=1)"
      ]
     },
     "execution_count": 20,
     "metadata": {},
     "output_type": "execute_result"
    }
   ],
   "source": [
    "# Hyperparameter tuning\n",
    "# trying to find best gamma and C\n",
    "\n",
    "hyper_params = {'gamma': [0.1, 0.01, 0.001],\n",
    "             'C': [100, 10, 1]} \n",
    "# Setting up the rbf Kernel model\n",
    "model = SVC(kernel= \"rbf\")\n",
    "\n",
    "# Hyperparameter tuning with the GridSearch algorithm\n",
    "model_cv = GridSearchCV(estimator = model,\n",
    "                       param_grid = hyper_params,\n",
    "                       verbose = 1,\n",
    "                       return_train_score = True,\n",
    "                        cv = 3,\n",
    "                        n_jobs = -1)\n",
    "\n",
    "\n",
    "# Training the model\n",
    "model_cv.fit(train_pca, Y_labels)"
   ]
  },
  {
   "cell_type": "code",
   "execution_count": 21,
   "id": "0cbe0c89",
   "metadata": {},
   "outputs": [
    {
     "data": {
      "text/html": [
       "<div>\n",
       "<style scoped>\n",
       "    .dataframe tbody tr th:only-of-type {\n",
       "        vertical-align: middle;\n",
       "    }\n",
       "\n",
       "    .dataframe tbody tr th {\n",
       "        vertical-align: top;\n",
       "    }\n",
       "\n",
       "    .dataframe thead th {\n",
       "        text-align: right;\n",
       "    }\n",
       "</style>\n",
       "<table border=\"1\" class=\"dataframe\">\n",
       "  <thead>\n",
       "    <tr style=\"text-align: right;\">\n",
       "      <th></th>\n",
       "      <th>mean_fit_time</th>\n",
       "      <th>std_fit_time</th>\n",
       "      <th>mean_score_time</th>\n",
       "      <th>std_score_time</th>\n",
       "      <th>param_C</th>\n",
       "      <th>param_gamma</th>\n",
       "      <th>params</th>\n",
       "      <th>split0_test_score</th>\n",
       "      <th>split1_test_score</th>\n",
       "      <th>split2_test_score</th>\n",
       "      <th>mean_test_score</th>\n",
       "      <th>std_test_score</th>\n",
       "      <th>rank_test_score</th>\n",
       "      <th>split0_train_score</th>\n",
       "      <th>split1_train_score</th>\n",
       "      <th>split2_train_score</th>\n",
       "      <th>mean_train_score</th>\n",
       "      <th>std_train_score</th>\n",
       "    </tr>\n",
       "  </thead>\n",
       "  <tbody>\n",
       "    <tr>\n",
       "      <th>0</th>\n",
       "      <td>892.115734</td>\n",
       "      <td>2.497248</td>\n",
       "      <td>234.967564</td>\n",
       "      <td>2.817980</td>\n",
       "      <td>100</td>\n",
       "      <td>0.1</td>\n",
       "      <td>{'C': 100, 'gamma': 0.1}</td>\n",
       "      <td>0.238661</td>\n",
       "      <td>0.236250</td>\n",
       "      <td>0.241250</td>\n",
       "      <td>0.238720</td>\n",
       "      <td>0.002042</td>\n",
       "      <td>7</td>\n",
       "      <td>1.000000</td>\n",
       "      <td>1.000000</td>\n",
       "      <td>1.000000</td>\n",
       "      <td>1.000000</td>\n",
       "      <td>0.000000</td>\n",
       "    </tr>\n",
       "    <tr>\n",
       "      <th>1</th>\n",
       "      <td>601.985136</td>\n",
       "      <td>3.547372</td>\n",
       "      <td>168.631569</td>\n",
       "      <td>2.177800</td>\n",
       "      <td>100</td>\n",
       "      <td>0.01</td>\n",
       "      <td>{'C': 100, 'gamma': 0.01}</td>\n",
       "      <td>0.875982</td>\n",
       "      <td>0.878036</td>\n",
       "      <td>0.880089</td>\n",
       "      <td>0.878036</td>\n",
       "      <td>0.001677</td>\n",
       "      <td>4</td>\n",
       "      <td>1.000000</td>\n",
       "      <td>1.000000</td>\n",
       "      <td>1.000000</td>\n",
       "      <td>1.000000</td>\n",
       "      <td>0.000000</td>\n",
       "    </tr>\n",
       "    <tr>\n",
       "      <th>2</th>\n",
       "      <td>76.521596</td>\n",
       "      <td>0.162276</td>\n",
       "      <td>64.471250</td>\n",
       "      <td>0.752066</td>\n",
       "      <td>100</td>\n",
       "      <td>0.001</td>\n",
       "      <td>{'C': 100, 'gamma': 0.001}</td>\n",
       "      <td>0.963482</td>\n",
       "      <td>0.963304</td>\n",
       "      <td>0.966250</td>\n",
       "      <td>0.964345</td>\n",
       "      <td>0.001349</td>\n",
       "      <td>2</td>\n",
       "      <td>1.000000</td>\n",
       "      <td>0.999866</td>\n",
       "      <td>0.999911</td>\n",
       "      <td>0.999926</td>\n",
       "      <td>0.000056</td>\n",
       "    </tr>\n",
       "    <tr>\n",
       "      <th>3</th>\n",
       "      <td>900.307456</td>\n",
       "      <td>4.796053</td>\n",
       "      <td>239.148610</td>\n",
       "      <td>2.701873</td>\n",
       "      <td>10</td>\n",
       "      <td>0.1</td>\n",
       "      <td>{'C': 10, 'gamma': 0.1}</td>\n",
       "      <td>0.238661</td>\n",
       "      <td>0.236250</td>\n",
       "      <td>0.241250</td>\n",
       "      <td>0.238720</td>\n",
       "      <td>0.002042</td>\n",
       "      <td>7</td>\n",
       "      <td>1.000000</td>\n",
       "      <td>1.000000</td>\n",
       "      <td>1.000000</td>\n",
       "      <td>1.000000</td>\n",
       "      <td>0.000000</td>\n",
       "    </tr>\n",
       "    <tr>\n",
       "      <th>4</th>\n",
       "      <td>591.090310</td>\n",
       "      <td>5.436100</td>\n",
       "      <td>157.604215</td>\n",
       "      <td>4.296410</td>\n",
       "      <td>10</td>\n",
       "      <td>0.01</td>\n",
       "      <td>{'C': 10, 'gamma': 0.01}</td>\n",
       "      <td>0.875982</td>\n",
       "      <td>0.878036</td>\n",
       "      <td>0.880089</td>\n",
       "      <td>0.878036</td>\n",
       "      <td>0.001677</td>\n",
       "      <td>4</td>\n",
       "      <td>1.000000</td>\n",
       "      <td>1.000000</td>\n",
       "      <td>1.000000</td>\n",
       "      <td>1.000000</td>\n",
       "      <td>0.000000</td>\n",
       "    </tr>\n",
       "    <tr>\n",
       "      <th>5</th>\n",
       "      <td>71.189662</td>\n",
       "      <td>1.325977</td>\n",
       "      <td>62.327350</td>\n",
       "      <td>3.234713</td>\n",
       "      <td>10</td>\n",
       "      <td>0.001</td>\n",
       "      <td>{'C': 10, 'gamma': 0.001}</td>\n",
       "      <td>0.964018</td>\n",
       "      <td>0.964018</td>\n",
       "      <td>0.966875</td>\n",
       "      <td>0.964970</td>\n",
       "      <td>0.001347</td>\n",
       "      <td>1</td>\n",
       "      <td>0.995179</td>\n",
       "      <td>0.995804</td>\n",
       "      <td>0.995982</td>\n",
       "      <td>0.995655</td>\n",
       "      <td>0.000345</td>\n",
       "    </tr>\n",
       "    <tr>\n",
       "      <th>6</th>\n",
       "      <td>663.080728</td>\n",
       "      <td>2.838121</td>\n",
       "      <td>124.037849</td>\n",
       "      <td>1.360731</td>\n",
       "      <td>1</td>\n",
       "      <td>0.1</td>\n",
       "      <td>{'C': 1, 'gamma': 0.1}</td>\n",
       "      <td>0.220893</td>\n",
       "      <td>0.220625</td>\n",
       "      <td>0.225804</td>\n",
       "      <td>0.222440</td>\n",
       "      <td>0.002381</td>\n",
       "      <td>9</td>\n",
       "      <td>1.000000</td>\n",
       "      <td>1.000000</td>\n",
       "      <td>1.000000</td>\n",
       "      <td>1.000000</td>\n",
       "      <td>0.000000</td>\n",
       "    </tr>\n",
       "    <tr>\n",
       "      <th>7</th>\n",
       "      <td>484.634318</td>\n",
       "      <td>7.406392</td>\n",
       "      <td>103.126791</td>\n",
       "      <td>0.028165</td>\n",
       "      <td>1</td>\n",
       "      <td>0.01</td>\n",
       "      <td>{'C': 1, 'gamma': 0.01}</td>\n",
       "      <td>0.865893</td>\n",
       "      <td>0.869107</td>\n",
       "      <td>0.869196</td>\n",
       "      <td>0.868065</td>\n",
       "      <td>0.001537</td>\n",
       "      <td>6</td>\n",
       "      <td>0.999018</td>\n",
       "      <td>0.999241</td>\n",
       "      <td>0.999062</td>\n",
       "      <td>0.999107</td>\n",
       "      <td>0.000096</td>\n",
       "    </tr>\n",
       "    <tr>\n",
       "      <th>8</th>\n",
       "      <td>88.742699</td>\n",
       "      <td>0.272657</td>\n",
       "      <td>68.809104</td>\n",
       "      <td>0.506704</td>\n",
       "      <td>1</td>\n",
       "      <td>0.001</td>\n",
       "      <td>{'C': 1, 'gamma': 0.001}</td>\n",
       "      <td>0.953214</td>\n",
       "      <td>0.952589</td>\n",
       "      <td>0.955446</td>\n",
       "      <td>0.953750</td>\n",
       "      <td>0.001226</td>\n",
       "      <td>3</td>\n",
       "      <td>0.972946</td>\n",
       "      <td>0.974509</td>\n",
       "      <td>0.972277</td>\n",
       "      <td>0.973244</td>\n",
       "      <td>0.000935</td>\n",
       "    </tr>\n",
       "  </tbody>\n",
       "</table>\n",
       "</div>"
      ],
      "text/plain": [
       "   mean_fit_time  std_fit_time  mean_score_time  std_score_time param_C  \\\n",
       "0     892.115734      2.497248       234.967564        2.817980     100   \n",
       "1     601.985136      3.547372       168.631569        2.177800     100   \n",
       "2      76.521596      0.162276        64.471250        0.752066     100   \n",
       "3     900.307456      4.796053       239.148610        2.701873      10   \n",
       "4     591.090310      5.436100       157.604215        4.296410      10   \n",
       "5      71.189662      1.325977        62.327350        3.234713      10   \n",
       "6     663.080728      2.838121       124.037849        1.360731       1   \n",
       "7     484.634318      7.406392       103.126791        0.028165       1   \n",
       "8      88.742699      0.272657        68.809104        0.506704       1   \n",
       "\n",
       "  param_gamma                      params  split0_test_score  \\\n",
       "0         0.1    {'C': 100, 'gamma': 0.1}           0.238661   \n",
       "1        0.01   {'C': 100, 'gamma': 0.01}           0.875982   \n",
       "2       0.001  {'C': 100, 'gamma': 0.001}           0.963482   \n",
       "3         0.1     {'C': 10, 'gamma': 0.1}           0.238661   \n",
       "4        0.01    {'C': 10, 'gamma': 0.01}           0.875982   \n",
       "5       0.001   {'C': 10, 'gamma': 0.001}           0.964018   \n",
       "6         0.1      {'C': 1, 'gamma': 0.1}           0.220893   \n",
       "7        0.01     {'C': 1, 'gamma': 0.01}           0.865893   \n",
       "8       0.001    {'C': 1, 'gamma': 0.001}           0.953214   \n",
       "\n",
       "   split1_test_score  split2_test_score  mean_test_score  std_test_score  \\\n",
       "0           0.236250           0.241250         0.238720        0.002042   \n",
       "1           0.878036           0.880089         0.878036        0.001677   \n",
       "2           0.963304           0.966250         0.964345        0.001349   \n",
       "3           0.236250           0.241250         0.238720        0.002042   \n",
       "4           0.878036           0.880089         0.878036        0.001677   \n",
       "5           0.964018           0.966875         0.964970        0.001347   \n",
       "6           0.220625           0.225804         0.222440        0.002381   \n",
       "7           0.869107           0.869196         0.868065        0.001537   \n",
       "8           0.952589           0.955446         0.953750        0.001226   \n",
       "\n",
       "   rank_test_score  split0_train_score  split1_train_score  \\\n",
       "0                7            1.000000            1.000000   \n",
       "1                4            1.000000            1.000000   \n",
       "2                2            1.000000            0.999866   \n",
       "3                7            1.000000            1.000000   \n",
       "4                4            1.000000            1.000000   \n",
       "5                1            0.995179            0.995804   \n",
       "6                9            1.000000            1.000000   \n",
       "7                6            0.999018            0.999241   \n",
       "8                3            0.972946            0.974509   \n",
       "\n",
       "   split2_train_score  mean_train_score  std_train_score  \n",
       "0            1.000000          1.000000         0.000000  \n",
       "1            1.000000          1.000000         0.000000  \n",
       "2            0.999911          0.999926         0.000056  \n",
       "3            1.000000          1.000000         0.000000  \n",
       "4            1.000000          1.000000         0.000000  \n",
       "5            0.995982          0.995655         0.000345  \n",
       "6            1.000000          1.000000         0.000000  \n",
       "7            0.999062          0.999107         0.000096  \n",
       "8            0.972277          0.973244         0.000935  "
      ]
     },
     "execution_count": 21,
     "metadata": {},
     "output_type": "execute_result"
    }
   ],
   "source": [
    "# Let's see the results\n",
    "cv_results = pd.DataFrame(model_cv.cv_results_)\n",
    "cv_results"
   ]
  },
  {
   "cell_type": "code",
   "execution_count": 22,
   "id": "fdd11b35",
   "metadata": {},
   "outputs": [
    {
     "name": "stdout",
     "output_type": "stream",
     "text": [
      "The best test score is 0.9649702380952382 corresponding to hyperparameter {'C': 10, 'gamma': 0.001}\n"
     ]
    }
   ],
   "source": [
    "# Getting the best score and the corresponding hyperparameters\n",
    "\n",
    "best_score = model_cv.best_score_\n",
    "best_hyperparams = model_cv.best_params_\n",
    "\n",
    "print(\"The best test score is {0} corresponding to hyperparameter {1}\".format(best_score, best_hyperparams))"
   ]
  },
  {
   "cell_type": "code",
   "execution_count": 56,
   "id": "548d2541",
   "metadata": {},
   "outputs": [],
   "source": [
    "# Now the optimal score and the hyperparameters are known, \n",
    "# so let's build up that model with the bigger training dataset"
   ]
  },
  {
   "cell_type": "code",
   "execution_count": 23,
   "id": "792b1dc9",
   "metadata": {},
   "outputs": [
    {
     "name": "stdout",
     "output_type": "stream",
     "text": [
      "accuracy 0.9720238095238095 \n",
      "\n",
      "[[789   1   0   1   1   2   4   0   0   0]\n",
      " [  0 909   2   0   3   0   1   4   1   0]\n",
      " [  2   0 784   6   1   0   0   4   0   0]\n",
      " [  0   1   9 827   0   9   1   6   3   2]\n",
      " [  0   2   8   0 791   0   2   2   1   7]\n",
      " [  1   1   2   5   0 754   3   3   1   2]\n",
      " [  3   1   3   0   0   8 829   5   0   0]\n",
      " [  2   5   6   1   2   0   0 900   1  12]\n",
      " [  2   7   2   8   3   4   5   5 773   1]\n",
      " [  1   0   4   6  14   1   1  13   5 809]] \n",
      "\n"
     ]
    }
   ],
   "source": [
    "# Setting up the model\n",
    "model_svc = SVC(C = 10, gamma = 0.001, kernel='rbf')\n",
    "\n",
    "# Training the model\n",
    "model_svc.fit(train_pca, Y_labels)\n",
    "\n",
    "#Making a prediction on the training_test subset\n",
    "x_pred = model_svc.predict(test_pca)\n",
    "\n",
    "# Getting Accouracy and Confusion Matrix\n",
    "print(\"accuracy\", metrics.accuracy_score(X_labels, x_pred), \"\\n\")\n",
    "print(metrics.confusion_matrix(X_labels, x_pred), \"\\n\")"
   ]
  },
  {
   "cell_type": "code",
   "execution_count": 24,
   "id": "dbcdd4f9",
   "metadata": {},
   "outputs": [
    {
     "name": "stdout",
     "output_type": "stream",
     "text": [
      "              precision    recall  f1-score   support\n",
      "\n",
      "           0       0.99      0.99      0.99       798\n",
      "           1       0.98      0.99      0.98       920\n",
      "           2       0.96      0.98      0.97       797\n",
      "           3       0.97      0.96      0.97       858\n",
      "           4       0.97      0.97      0.97       813\n",
      "           5       0.97      0.98      0.97       772\n",
      "           6       0.98      0.98      0.98       849\n",
      "           7       0.96      0.97      0.96       929\n",
      "           8       0.98      0.95      0.97       810\n",
      "           9       0.97      0.95      0.96       854\n",
      "\n",
      "    accuracy                           0.97      8400\n",
      "   macro avg       0.97      0.97      0.97      8400\n",
      "weighted avg       0.97      0.97      0.97      8400\n",
      "\n"
     ]
    }
   ],
   "source": [
    "# Getting precision, recall & f1-score\n",
    "scores = metrics.classification_report(X_labels, x_pred, labels=[0, 1, 2, 3, 4, 5, 6, 7, 8, 9])\n",
    "print(scores)"
   ]
  },
  {
   "cell_type": "code",
   "execution_count": 59,
   "id": "34af5366",
   "metadata": {},
   "outputs": [],
   "source": [
    "# With ≈ 97% accuracy/ weighted avg precision, refall & f1-score it is the best result so far. \n",
    "# Let's try different feature extractions"
   ]
  },
  {
   "cell_type": "markdown",
   "id": "329b57cb",
   "metadata": {},
   "source": [
    "# Implementing KNN approach"
   ]
  },
  {
   "cell_type": "code",
   "execution_count": 60,
   "id": "7c8c8784",
   "metadata": {},
   "outputs": [
    {
     "name": "stdout",
     "output_type": "stream",
     "text": [
      "X_train shape: (8400, 784)\n",
      "X_labels shape: (8400,)\n",
      "Y_train shape: (33600, 784)\n",
      "Y_labels shape: (33600,)\n"
     ]
    }
   ],
   "source": [
    "print('X_train shape:',X_train.shape)\n",
    "print('X_labels shape:',X_labels.shape)\n",
    "print('Y_train shape:',Y_train.shape)\n",
    "print('Y_labels shape:',Y_labels.shape)"
   ]
  },
  {
   "cell_type": "code",
   "execution_count": 61,
   "id": "3c1b935d",
   "metadata": {},
   "outputs": [
    {
     "name": "stdout",
     "output_type": "stream",
     "text": [
      "Fitting 5 folds for each of 7 candidates, totalling 35 fits\n"
     ]
    },
    {
     "data": {
      "text/plain": [
       "GridSearchCV(cv=5, estimator=KNeighborsClassifier(), n_jobs=-1,\n",
       "             param_grid=[{'n_neighbors': array([ 1,  3,  5,  7,  9, 11, 13])}],\n",
       "             return_train_score=True, verbose=1)"
      ]
     },
     "execution_count": 61,
     "metadata": {},
     "output_type": "execute_result"
    }
   ],
   "source": [
    "# Setting up the hyperparameters by cross-validation\n",
    "# I try out optimizing the neighours\n",
    "# Other parameters that could be optimized: metric, weights\n",
    "hyper_parameters = [{'n_neighbors': np.arange(1, 15, 2)}]\n",
    "\n",
    "# Setting up the KNN model\n",
    "model = KNeighborsClassifier()\n",
    "\n",
    "             \n",
    "# Setting up the GridSearchCV to find the optimal hyper_parameters\n",
    "knn_model_cv = GridSearchCV(model, \n",
    "                            param_grid=hyper_parameters, \n",
    "                            return_train_score=True, \n",
    "                            verbose = 1,\n",
    "                            cv = 5,\n",
    "                            n_jobs=-1)\n",
    "\n",
    "# Training the model\n",
    "knn_model_cv.fit(Y_train, Y_labels)"
   ]
  },
  {
   "cell_type": "code",
   "execution_count": 62,
   "id": "5799e384",
   "metadata": {},
   "outputs": [
    {
     "data": {
      "text/html": [
       "<div>\n",
       "<style scoped>\n",
       "    .dataframe tbody tr th:only-of-type {\n",
       "        vertical-align: middle;\n",
       "    }\n",
       "\n",
       "    .dataframe tbody tr th {\n",
       "        vertical-align: top;\n",
       "    }\n",
       "\n",
       "    .dataframe thead th {\n",
       "        text-align: right;\n",
       "    }\n",
       "</style>\n",
       "<table border=\"1\" class=\"dataframe\">\n",
       "  <thead>\n",
       "    <tr style=\"text-align: right;\">\n",
       "      <th></th>\n",
       "      <th>mean_fit_time</th>\n",
       "      <th>std_fit_time</th>\n",
       "      <th>mean_score_time</th>\n",
       "      <th>std_score_time</th>\n",
       "      <th>param_n_neighbors</th>\n",
       "      <th>params</th>\n",
       "      <th>split0_test_score</th>\n",
       "      <th>split1_test_score</th>\n",
       "      <th>split2_test_score</th>\n",
       "      <th>split3_test_score</th>\n",
       "      <th>...</th>\n",
       "      <th>mean_test_score</th>\n",
       "      <th>std_test_score</th>\n",
       "      <th>rank_test_score</th>\n",
       "      <th>split0_train_score</th>\n",
       "      <th>split1_train_score</th>\n",
       "      <th>split2_train_score</th>\n",
       "      <th>split3_train_score</th>\n",
       "      <th>split4_train_score</th>\n",
       "      <th>mean_train_score</th>\n",
       "      <th>std_train_score</th>\n",
       "    </tr>\n",
       "  </thead>\n",
       "  <tbody>\n",
       "    <tr>\n",
       "      <th>0</th>\n",
       "      <td>0.285434</td>\n",
       "      <td>0.016988</td>\n",
       "      <td>54.266361</td>\n",
       "      <td>4.047319</td>\n",
       "      <td>1</td>\n",
       "      <td>{'n_neighbors': 1}</td>\n",
       "      <td>0.934821</td>\n",
       "      <td>0.933631</td>\n",
       "      <td>0.933780</td>\n",
       "      <td>0.930952</td>\n",
       "      <td>...</td>\n",
       "      <td>0.933304</td>\n",
       "      <td>0.001278</td>\n",
       "      <td>2</td>\n",
       "      <td>1.000000</td>\n",
       "      <td>1.000000</td>\n",
       "      <td>1.000000</td>\n",
       "      <td>1.000000</td>\n",
       "      <td>1.000000</td>\n",
       "      <td>1.000000</td>\n",
       "      <td>0.000000</td>\n",
       "    </tr>\n",
       "    <tr>\n",
       "      <th>1</th>\n",
       "      <td>0.272071</td>\n",
       "      <td>0.006658</td>\n",
       "      <td>54.957514</td>\n",
       "      <td>4.001142</td>\n",
       "      <td>3</td>\n",
       "      <td>{'n_neighbors': 3}</td>\n",
       "      <td>0.937351</td>\n",
       "      <td>0.935417</td>\n",
       "      <td>0.933631</td>\n",
       "      <td>0.932292</td>\n",
       "      <td>...</td>\n",
       "      <td>0.935030</td>\n",
       "      <td>0.001846</td>\n",
       "      <td>1</td>\n",
       "      <td>0.964323</td>\n",
       "      <td>0.965625</td>\n",
       "      <td>0.965662</td>\n",
       "      <td>0.965885</td>\n",
       "      <td>0.965402</td>\n",
       "      <td>0.965379</td>\n",
       "      <td>0.000550</td>\n",
       "    </tr>\n",
       "    <tr>\n",
       "      <th>2</th>\n",
       "      <td>0.443813</td>\n",
       "      <td>0.159026</td>\n",
       "      <td>38.156590</td>\n",
       "      <td>14.824113</td>\n",
       "      <td>5</td>\n",
       "      <td>{'n_neighbors': 5}</td>\n",
       "      <td>0.937351</td>\n",
       "      <td>0.932292</td>\n",
       "      <td>0.933036</td>\n",
       "      <td>0.926786</td>\n",
       "      <td>...</td>\n",
       "      <td>0.933214</td>\n",
       "      <td>0.003764</td>\n",
       "      <td>3</td>\n",
       "      <td>0.954241</td>\n",
       "      <td>0.955134</td>\n",
       "      <td>0.955022</td>\n",
       "      <td>0.955655</td>\n",
       "      <td>0.954353</td>\n",
       "      <td>0.954881</td>\n",
       "      <td>0.000524</td>\n",
       "    </tr>\n",
       "    <tr>\n",
       "      <th>3</th>\n",
       "      <td>0.342086</td>\n",
       "      <td>0.041989</td>\n",
       "      <td>31.761241</td>\n",
       "      <td>1.575579</td>\n",
       "      <td>7</td>\n",
       "      <td>{'n_neighbors': 7}</td>\n",
       "      <td>0.937054</td>\n",
       "      <td>0.933036</td>\n",
       "      <td>0.931696</td>\n",
       "      <td>0.926042</td>\n",
       "      <td>...</td>\n",
       "      <td>0.932798</td>\n",
       "      <td>0.003907</td>\n",
       "      <td>4</td>\n",
       "      <td>0.947173</td>\n",
       "      <td>0.948363</td>\n",
       "      <td>0.948326</td>\n",
       "      <td>0.949591</td>\n",
       "      <td>0.946912</td>\n",
       "      <td>0.948073</td>\n",
       "      <td>0.000960</td>\n",
       "    </tr>\n",
       "    <tr>\n",
       "      <th>4</th>\n",
       "      <td>0.426061</td>\n",
       "      <td>0.138113</td>\n",
       "      <td>33.926278</td>\n",
       "      <td>4.027044</td>\n",
       "      <td>9</td>\n",
       "      <td>{'n_neighbors': 9}</td>\n",
       "      <td>0.932292</td>\n",
       "      <td>0.930655</td>\n",
       "      <td>0.927381</td>\n",
       "      <td>0.924851</td>\n",
       "      <td>...</td>\n",
       "      <td>0.929881</td>\n",
       "      <td>0.003372</td>\n",
       "      <td>5</td>\n",
       "      <td>0.942857</td>\n",
       "      <td>0.942969</td>\n",
       "      <td>0.943527</td>\n",
       "      <td>0.944382</td>\n",
       "      <td>0.942448</td>\n",
       "      <td>0.943237</td>\n",
       "      <td>0.000669</td>\n",
       "    </tr>\n",
       "    <tr>\n",
       "      <th>5</th>\n",
       "      <td>0.600993</td>\n",
       "      <td>0.122117</td>\n",
       "      <td>34.698879</td>\n",
       "      <td>5.056828</td>\n",
       "      <td>11</td>\n",
       "      <td>{'n_neighbors': 11}</td>\n",
       "      <td>0.931101</td>\n",
       "      <td>0.930060</td>\n",
       "      <td>0.926935</td>\n",
       "      <td>0.922917</td>\n",
       "      <td>...</td>\n",
       "      <td>0.928780</td>\n",
       "      <td>0.003512</td>\n",
       "      <td>6</td>\n",
       "      <td>0.938839</td>\n",
       "      <td>0.939993</td>\n",
       "      <td>0.939583</td>\n",
       "      <td>0.941220</td>\n",
       "      <td>0.938393</td>\n",
       "      <td>0.939606</td>\n",
       "      <td>0.000981</td>\n",
       "    </tr>\n",
       "    <tr>\n",
       "      <th>6</th>\n",
       "      <td>0.915060</td>\n",
       "      <td>0.767186</td>\n",
       "      <td>37.587836</td>\n",
       "      <td>6.901181</td>\n",
       "      <td>13</td>\n",
       "      <td>{'n_neighbors': 13}</td>\n",
       "      <td>0.928571</td>\n",
       "      <td>0.927232</td>\n",
       "      <td>0.925595</td>\n",
       "      <td>0.918155</td>\n",
       "      <td>...</td>\n",
       "      <td>0.925804</td>\n",
       "      <td>0.004041</td>\n",
       "      <td>7</td>\n",
       "      <td>0.936384</td>\n",
       "      <td>0.936198</td>\n",
       "      <td>0.936942</td>\n",
       "      <td>0.937351</td>\n",
       "      <td>0.934524</td>\n",
       "      <td>0.936280</td>\n",
       "      <td>0.000968</td>\n",
       "    </tr>\n",
       "  </tbody>\n",
       "</table>\n",
       "<p>7 rows × 21 columns</p>\n",
       "</div>"
      ],
      "text/plain": [
       "   mean_fit_time  std_fit_time  mean_score_time  std_score_time  \\\n",
       "0       0.285434      0.016988        54.266361        4.047319   \n",
       "1       0.272071      0.006658        54.957514        4.001142   \n",
       "2       0.443813      0.159026        38.156590       14.824113   \n",
       "3       0.342086      0.041989        31.761241        1.575579   \n",
       "4       0.426061      0.138113        33.926278        4.027044   \n",
       "5       0.600993      0.122117        34.698879        5.056828   \n",
       "6       0.915060      0.767186        37.587836        6.901181   \n",
       "\n",
       "  param_n_neighbors               params  split0_test_score  \\\n",
       "0                 1   {'n_neighbors': 1}           0.934821   \n",
       "1                 3   {'n_neighbors': 3}           0.937351   \n",
       "2                 5   {'n_neighbors': 5}           0.937351   \n",
       "3                 7   {'n_neighbors': 7}           0.937054   \n",
       "4                 9   {'n_neighbors': 9}           0.932292   \n",
       "5                11  {'n_neighbors': 11}           0.931101   \n",
       "6                13  {'n_neighbors': 13}           0.928571   \n",
       "\n",
       "   split1_test_score  split2_test_score  split3_test_score  ...  \\\n",
       "0           0.933631           0.933780           0.930952  ...   \n",
       "1           0.935417           0.933631           0.932292  ...   \n",
       "2           0.932292           0.933036           0.926786  ...   \n",
       "3           0.933036           0.931696           0.926042  ...   \n",
       "4           0.930655           0.927381           0.924851  ...   \n",
       "5           0.930060           0.926935           0.922917  ...   \n",
       "6           0.927232           0.925595           0.918155  ...   \n",
       "\n",
       "   mean_test_score  std_test_score  rank_test_score  split0_train_score  \\\n",
       "0         0.933304        0.001278                2            1.000000   \n",
       "1         0.935030        0.001846                1            0.964323   \n",
       "2         0.933214        0.003764                3            0.954241   \n",
       "3         0.932798        0.003907                4            0.947173   \n",
       "4         0.929881        0.003372                5            0.942857   \n",
       "5         0.928780        0.003512                6            0.938839   \n",
       "6         0.925804        0.004041                7            0.936384   \n",
       "\n",
       "   split1_train_score  split2_train_score  split3_train_score  \\\n",
       "0            1.000000            1.000000            1.000000   \n",
       "1            0.965625            0.965662            0.965885   \n",
       "2            0.955134            0.955022            0.955655   \n",
       "3            0.948363            0.948326            0.949591   \n",
       "4            0.942969            0.943527            0.944382   \n",
       "5            0.939993            0.939583            0.941220   \n",
       "6            0.936198            0.936942            0.937351   \n",
       "\n",
       "   split4_train_score  mean_train_score  std_train_score  \n",
       "0            1.000000          1.000000         0.000000  \n",
       "1            0.965402          0.965379         0.000550  \n",
       "2            0.954353          0.954881         0.000524  \n",
       "3            0.946912          0.948073         0.000960  \n",
       "4            0.942448          0.943237         0.000669  \n",
       "5            0.938393          0.939606         0.000981  \n",
       "6            0.934524          0.936280         0.000968  \n",
       "\n",
       "[7 rows x 21 columns]"
      ]
     },
     "execution_count": 62,
     "metadata": {},
     "output_type": "execute_result"
    }
   ],
   "source": [
    "knn_model_cv_results = pd.DataFrame(knn_model_cv.cv_results_)\n",
    "knn_model_cv_results"
   ]
  },
  {
   "cell_type": "code",
   "execution_count": 63,
   "id": "c9fbb437",
   "metadata": {},
   "outputs": [
    {
     "name": "stdout",
     "output_type": "stream",
     "text": [
      "The best test score is 0.9350297619047618 corresponding to hyperparameter {'n_neighbors': 3}\n"
     ]
    }
   ],
   "source": [
    "# Getting the best accuracy and the corresponting hyperparameters\n",
    "\n",
    "best_score = knn_model_cv.best_score_\n",
    "best_hyperparams = knn_model_cv.best_params_\n",
    "\n",
    "print(\"The best test score is {0} corresponding to hyperparameter {1}\".format(best_score, best_hyperparams))"
   ]
  },
  {
   "cell_type": "code",
   "execution_count": 64,
   "id": "9a57c129",
   "metadata": {},
   "outputs": [],
   "source": [
    "# Now we have the optimal amount of neighbours. Let's train the KNN model with n_neighbours = 3"
   ]
  },
  {
   "cell_type": "code",
   "execution_count": 65,
   "id": "18b0c3f4",
   "metadata": {},
   "outputs": [
    {
     "name": "stdout",
     "output_type": "stream",
     "text": [
      "accuracy 0.9398809523809524 \n",
      "\n",
      "[[784   0   1   4   0   4   4   0   0   1]\n",
      " [  1 908   4   1   1   0   4   1   0   0]\n",
      " [  8   6 753  11   5   0   2   7   2   3]\n",
      " [  1   3  16 813   1  11   0   6   6   1]\n",
      " [  1   5   9   1 761   1   3   4   1  27]\n",
      " [  2   2   2  32   3 707   7   2   3  12]\n",
      " [  9   3   2   1   1   7 825   0   1   0]\n",
      " [  1  12   9   3   7   0   0 866   0  31]\n",
      " [ 11  17  13  21   8  26   5   4 699   6]\n",
      " [  6   1   4   4  22   4   0  32   2 779]] \n",
      "\n"
     ]
    }
   ],
   "source": [
    "# Setting up the KNN model\n",
    "knn_model = KNeighborsClassifier(n_neighbors=3)\n",
    "\n",
    "# Training the model\n",
    "knn_model.fit(Y_train, Y_labels)\n",
    "\n",
    "\n",
    "#Making a prediction on the training_test subset\n",
    "x_pred = knn_model.predict(X_train)\n",
    "\n",
    "# Getting Accouracy and Confusion Matrix\n",
    "print(\"accuracy\", metrics.accuracy_score(X_labels, x_pred), \"\\n\")\n",
    "print(metrics.confusion_matrix(X_labels, x_pred), \"\\n\")"
   ]
  },
  {
   "cell_type": "code",
   "execution_count": 66,
   "id": "cb91851a",
   "metadata": {},
   "outputs": [
    {
     "name": "stdout",
     "output_type": "stream",
     "text": [
      "              precision    recall  f1-score   support\n",
      "\n",
      "           0       0.95      0.98      0.97       798\n",
      "           1       0.95      0.99      0.97       920\n",
      "           2       0.93      0.94      0.94       797\n",
      "           3       0.91      0.95      0.93       858\n",
      "           4       0.94      0.94      0.94       813\n",
      "           5       0.93      0.92      0.92       772\n",
      "           6       0.97      0.97      0.97       849\n",
      "           7       0.94      0.93      0.94       929\n",
      "           8       0.98      0.86      0.92       810\n",
      "           9       0.91      0.91      0.91       854\n",
      "\n",
      "    accuracy                           0.94      8400\n",
      "   macro avg       0.94      0.94      0.94      8400\n",
      "weighted avg       0.94      0.94      0.94      8400\n",
      "\n"
     ]
    }
   ],
   "source": [
    "# Getting precision, recall & f1-score\n",
    "\n",
    "scores = metrics.classification_report(X_labels, x_pred, labels=[0, 1, 2, 3, 4, 5, 6, 7, 8, 9])\n",
    "print(scores)"
   ]
  },
  {
   "cell_type": "code",
   "execution_count": 67,
   "id": "f291e87e",
   "metadata": {},
   "outputs": [],
   "source": [
    "# The accouracy, weighted avg precision, refall & f1-score of ≈ 94% is worse then the SVM model."
   ]
  },
  {
   "cell_type": "markdown",
   "id": "714393f6",
   "metadata": {},
   "source": [
    "### Since the SVM/SVC model performed better than the KNN algorithm, I will submit the SVC algorithm to Kaggle."
   ]
  },
  {
   "cell_type": "code",
   "execution_count": 68,
   "id": "4ef2dac1",
   "metadata": {},
   "outputs": [],
   "source": [
    "# Saving the results of the predicted test-set\n",
    "result = model_svc.predict(x_test)"
   ]
  },
  {
   "cell_type": "code",
   "execution_count": 69,
   "id": "b6119179",
   "metadata": {},
   "outputs": [],
   "source": [
    "# Creating a table with the Image ID's and the results\n",
    "data_to_submit = pd.DataFrame({'ImageId': dc_test.index.values+1,\n",
    "                              'Label':result})\n",
    "\n",
    "data_to_submit.index=data_to_submit['ImageId'].values\n",
    "\n",
    "data_to_submit.to_csv('result_dc.csv', index= False)"
   ]
  },
  {
   "cell_type": "code",
   "execution_count": 70,
   "id": "14c07511",
   "metadata": {},
   "outputs": [
    {
     "data": {
      "text/html": [
       "<div>\n",
       "<style scoped>\n",
       "    .dataframe tbody tr th:only-of-type {\n",
       "        vertical-align: middle;\n",
       "    }\n",
       "\n",
       "    .dataframe tbody tr th {\n",
       "        vertical-align: top;\n",
       "    }\n",
       "\n",
       "    .dataframe thead th {\n",
       "        text-align: right;\n",
       "    }\n",
       "</style>\n",
       "<table border=\"1\" class=\"dataframe\">\n",
       "  <thead>\n",
       "    <tr style=\"text-align: right;\">\n",
       "      <th></th>\n",
       "      <th>ImageId</th>\n",
       "      <th>Label</th>\n",
       "    </tr>\n",
       "  </thead>\n",
       "  <tbody>\n",
       "    <tr>\n",
       "      <th>1</th>\n",
       "      <td>1</td>\n",
       "      <td>2</td>\n",
       "    </tr>\n",
       "    <tr>\n",
       "      <th>2</th>\n",
       "      <td>2</td>\n",
       "      <td>0</td>\n",
       "    </tr>\n",
       "    <tr>\n",
       "      <th>3</th>\n",
       "      <td>3</td>\n",
       "      <td>9</td>\n",
       "    </tr>\n",
       "    <tr>\n",
       "      <th>4</th>\n",
       "      <td>4</td>\n",
       "      <td>4</td>\n",
       "    </tr>\n",
       "    <tr>\n",
       "      <th>5</th>\n",
       "      <td>5</td>\n",
       "      <td>3</td>\n",
       "    </tr>\n",
       "  </tbody>\n",
       "</table>\n",
       "</div>"
      ],
      "text/plain": [
       "   ImageId  Label\n",
       "1        1      2\n",
       "2        2      0\n",
       "3        3      9\n",
       "4        4      4\n",
       "5        5      3"
      ]
     },
     "execution_count": 70,
     "metadata": {},
     "output_type": "execute_result"
    }
   ],
   "source": [
    "# Displaying the created table\n",
    "data_to_submit.head()"
   ]
  },
  {
   "cell_type": "markdown",
   "id": "ae46953d",
   "metadata": {},
   "source": []
  },
  {
   "cell_type": "markdown",
   "id": "b912b22d",
   "metadata": {},
   "source": [
    "Codebases from: https://github.com/pramodini18/Digit-recognition-using-SVM/blob/master/Handwritten%20digit%20recognition%20using%20SVM.ipynb\n",
    "\n",
    "https://www.kaggle.com/sabasiddiqi/svm-classification-parameter-selection-0-968\n",
    "\n",
    "https://www.kaggle.com/upinderkahlon28/digit-recognizer"
   ]
  },
  {
   "cell_type": "code",
   "execution_count": null,
   "id": "fdf9e37a",
   "metadata": {},
   "outputs": [],
   "source": []
  }
 ],
 "metadata": {
  "kernelspec": {
   "display_name": "Python 3 (ipykernel)",
   "language": "python",
   "name": "python3"
  },
  "language_info": {
   "codemirror_mode": {
    "name": "ipython",
    "version": 3
   },
   "file_extension": ".py",
   "mimetype": "text/x-python",
   "name": "python",
   "nbconvert_exporter": "python",
   "pygments_lexer": "ipython3",
   "version": "3.9.7"
  }
 },
 "nbformat": 4,
 "nbformat_minor": 5
}
