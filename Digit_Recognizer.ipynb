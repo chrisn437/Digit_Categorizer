{
 "cells": [
  {
   "cell_type": "markdown",
   "id": "a2ba60c5",
   "metadata": {},
   "source": [
    "# Digit classification"
   ]
  },
  {
   "cell_type": "markdown",
   "id": "2d032b02",
   "metadata": {},
   "source": [
    "## Importing packeges and libraries"
   ]
  },
  {
   "cell_type": "code",
   "execution_count": 202,
   "id": "9bf9846c",
   "metadata": {},
   "outputs": [],
   "source": [
    "import pandas as pd\n",
    "import numpy as np\n",
    "import matplotlib.pyplot as plt\n",
    "import matplotlib.image as mpimg\n",
    "import seaborn as sns\n",
    "%matplotlib inline"
   ]
  },
  {
   "cell_type": "markdown",
   "id": "adc5c520",
   "metadata": {},
   "source": [
    "## Importing the data"
   ]
  },
  {
   "cell_type": "code",
   "execution_count": 203,
   "id": "9bcd033d",
   "metadata": {},
   "outputs": [],
   "source": [
    "dc_train = pd.read_csv(\"C:\\\\AAU\\\\miniproject\\\\train.csv\")\n",
    "dc_test = pd.read_csv(\"C:\\\\AAU\\\\miniproject\\\\test.csv\")\n",
    "sub = pd.read_csv(\"C:\\\\AAU\\\\miniproject\\\\sample_submission.csv\")"
   ]
  },
  {
   "cell_type": "markdown",
   "id": "15e6c370",
   "metadata": {},
   "source": [
    "### Exploring the Dataset"
   ]
  },
  {
   "cell_type": "code",
   "execution_count": 204,
   "id": "3beb9c2f",
   "metadata": {},
   "outputs": [
    {
     "name": "stdout",
     "output_type": "stream",
     "text": [
      "       label  pixel0  pixel1  pixel2  pixel3  pixel4  pixel5  pixel6  pixel7  \\\n",
      "0          1       0       0       0       0       0       0       0       0   \n",
      "1          0       0       0       0       0       0       0       0       0   \n",
      "2          1       0       0       0       0       0       0       0       0   \n",
      "3          4       0       0       0       0       0       0       0       0   \n",
      "4          0       0       0       0       0       0       0       0       0   \n",
      "...      ...     ...     ...     ...     ...     ...     ...     ...     ...   \n",
      "41995      0       0       0       0       0       0       0       0       0   \n",
      "41996      1       0       0       0       0       0       0       0       0   \n",
      "41997      7       0       0       0       0       0       0       0       0   \n",
      "41998      6       0       0       0       0       0       0       0       0   \n",
      "41999      9       0       0       0       0       0       0       0       0   \n",
      "\n",
      "       pixel8  ...  pixel774  pixel775  pixel776  pixel777  pixel778  \\\n",
      "0           0  ...         0         0         0         0         0   \n",
      "1           0  ...         0         0         0         0         0   \n",
      "2           0  ...         0         0         0         0         0   \n",
      "3           0  ...         0         0         0         0         0   \n",
      "4           0  ...         0         0         0         0         0   \n",
      "...       ...  ...       ...       ...       ...       ...       ...   \n",
      "41995       0  ...         0         0         0         0         0   \n",
      "41996       0  ...         0         0         0         0         0   \n",
      "41997       0  ...         0         0         0         0         0   \n",
      "41998       0  ...         0         0         0         0         0   \n",
      "41999       0  ...         0         0         0         0         0   \n",
      "\n",
      "       pixel779  pixel780  pixel781  pixel782  pixel783  \n",
      "0             0         0         0         0         0  \n",
      "1             0         0         0         0         0  \n",
      "2             0         0         0         0         0  \n",
      "3             0         0         0         0         0  \n",
      "4             0         0         0         0         0  \n",
      "...         ...       ...       ...       ...       ...  \n",
      "41995         0         0         0         0         0  \n",
      "41996         0         0         0         0         0  \n",
      "41997         0         0         0         0         0  \n",
      "41998         0         0         0         0         0  \n",
      "41999         0         0         0         0         0  \n",
      "\n",
      "[42000 rows x 785 columns]\n",
      "       pixel0  pixel1  pixel2  pixel3  pixel4  pixel5  pixel6  pixel7  pixel8  \\\n",
      "0           0       0       0       0       0       0       0       0       0   \n",
      "1           0       0       0       0       0       0       0       0       0   \n",
      "2           0       0       0       0       0       0       0       0       0   \n",
      "3           0       0       0       0       0       0       0       0       0   \n",
      "4           0       0       0       0       0       0       0       0       0   \n",
      "...       ...     ...     ...     ...     ...     ...     ...     ...     ...   \n",
      "27995       0       0       0       0       0       0       0       0       0   \n",
      "27996       0       0       0       0       0       0       0       0       0   \n",
      "27997       0       0       0       0       0       0       0       0       0   \n",
      "27998       0       0       0       0       0       0       0       0       0   \n",
      "27999       0       0       0       0       0       0       0       0       0   \n",
      "\n",
      "       pixel9  ...  pixel774  pixel775  pixel776  pixel777  pixel778  \\\n",
      "0           0  ...         0         0         0         0         0   \n",
      "1           0  ...         0         0         0         0         0   \n",
      "2           0  ...         0         0         0         0         0   \n",
      "3           0  ...         0         0         0         0         0   \n",
      "4           0  ...         0         0         0         0         0   \n",
      "...       ...  ...       ...       ...       ...       ...       ...   \n",
      "27995       0  ...         0         0         0         0         0   \n",
      "27996       0  ...         0         0         0         0         0   \n",
      "27997       0  ...         0         0         0         0         0   \n",
      "27998       0  ...         0         0         0         0         0   \n",
      "27999       0  ...         0         0         0         0         0   \n",
      "\n",
      "       pixel779  pixel780  pixel781  pixel782  pixel783  \n",
      "0             0         0         0         0         0  \n",
      "1             0         0         0         0         0  \n",
      "2             0         0         0         0         0  \n",
      "3             0         0         0         0         0  \n",
      "4             0         0         0         0         0  \n",
      "...         ...       ...       ...       ...       ...  \n",
      "27995         0         0         0         0         0  \n",
      "27996         0         0         0         0         0  \n",
      "27997         0         0         0         0         0  \n",
      "27998         0         0         0         0         0  \n",
      "27999         0         0         0         0         0  \n",
      "\n",
      "[28000 rows x 784 columns]\n"
     ]
    }
   ],
   "source": [
    "# Just printing out what information is stored in the tables\n",
    "print(dc_train)\n",
    "print(dc_test)"
   ]
  },
  {
   "cell_type": "code",
   "execution_count": 205,
   "id": "6c9e7d02",
   "metadata": {},
   "outputs": [
    {
     "name": "stdout",
     "output_type": "stream",
     "text": [
      "<class 'pandas.core.frame.DataFrame'>\n",
      "RangeIndex: 42000 entries, 0 to 41999\n",
      "Columns: 785 entries, label to pixel783\n",
      "dtypes: int64(785)\n",
      "memory usage: 251.5 MB\n"
     ]
    }
   ],
   "source": [
    "dc_train.info()"
   ]
  },
  {
   "cell_type": "markdown",
   "id": "7a79aafd",
   "metadata": {},
   "source": [
    "### Removing the label column from the Training-Dataset and restoring it"
   ]
  },
  {
   "cell_type": "code",
   "execution_count": 206,
   "id": "bfa4f18b",
   "metadata": {},
   "outputs": [
    {
     "name": "stdout",
     "output_type": "stream",
     "text": [
      "(42000, 784) (42000,)\n"
     ]
    }
   ],
   "source": [
    "dc_label = dc_train['label']\n",
    "dc_train.drop(['label'], axis=1, inplace=True)\n",
    "print(dc_train.shape, dc_label.shape)"
   ]
  },
  {
   "cell_type": "markdown",
   "id": "2d1cf158",
   "metadata": {},
   "source": [
    "### Looking at the number distribution"
   ]
  },
  {
   "cell_type": "code",
   "execution_count": 207,
   "id": "056a242e",
   "metadata": {},
   "outputs": [],
   "source": [
    "import warnings\n",
    "warnings.filterwarnings('ignore')"
   ]
  },
  {
   "cell_type": "code",
   "execution_count": 208,
   "id": "8e9f495f",
   "metadata": {},
   "outputs": [
    {
     "data": {
      "text/plain": [
       "1    4684\n",
       "7    4401\n",
       "3    4351\n",
       "9    4188\n",
       "2    4177\n",
       "6    4137\n",
       "0    4132\n",
       "4    4072\n",
       "8    4063\n",
       "5    3795\n",
       "Name: label, dtype: int64"
      ]
     },
     "execution_count": 208,
     "metadata": {},
     "output_type": "execute_result"
    },
    {
     "data": {
      "image/png": "[encoded data removed]",
      "text/plain": [
       "<Figure size 432x288 with 1 Axes>"
      ]
     },
     "metadata": {
      "needs_background": "light"
     },
     "output_type": "display_data"
    }
   ],
   "source": [
    "# Vilsualizing the distribution and getting the amount of each digit\n",
    "sns.countplot(dc_label)\n",
    "dc_label.value_counts()"
   ]
  },
  {
   "cell_type": "markdown",
   "id": "103ab26b",
   "metadata": {},
   "source": [
    "### Looking at the pixel-values and their frequency (0-black, 255-white)"
   ]
  },
  {
   "cell_type": "code",
   "execution_count": 209,
   "id": "d8038c6d",
   "metadata": {},
   "outputs": [
    {
     "data": {
      "text/plain": [
       "Text(0, 0.5, 'Frequency')"
      ]
     },
     "execution_count": 209,
     "metadata": {},
     "output_type": "execute_result"
    },
    {
     "data": {
      "image/png": "[encoded data removed]",
      "text/plain": [
       "<Figure size 576x576 with 1 Axes>"
      ]
     },
     "metadata": {
      "needs_background": "light"
     },
     "output_type": "display_data"
    }
   ],
   "source": [
    "y = pd.value_counts(dc_train.values.ravel()).sort_index()\n",
    "N = len(y)\n",
    "x = range(N)\n",
    "width =0.9\n",
    "plt.figure(figsize=[8,8])\n",
    "plt.bar(x, y, width, color=\"blue\")\n",
    "plt.title('Pixel Value Frequency')\n",
    "plt.yscale('log')\n",
    "plt.xlabel('Pixel Value (0-255)')\n",
    "plt.ylabel('Frequency')"
   ]
  },
  {
   "cell_type": "markdown",
   "id": "630d6b7f",
   "metadata": {},
   "source": [
    "### Visualizing some random digits"
   ]
  },
  {
   "cell_type": "code",
   "execution_count": 210,
   "id": "dc829abc",
   "metadata": {},
   "outputs": [
    {
     "data": {
      "image/png": "[encoded data removed]",
      "text/plain": [
       "<Figure size 864x360 with 10 Axes>"
      ]
     },
     "metadata": {
      "needs_background": "light"
     },
     "output_type": "display_data"
    },
    {
     "name": "stdout",
     "output_type": "stream",
     "text": [
      "(42000, 784)\n"
     ]
    }
   ],
   "source": [
    "fig, axes = plt.subplots(2,5, figsize=(12,5))\n",
    "axes = axes.flatten()\n",
    "idx = np.random.randint(0,42000,size=10)\n",
    "for i in range(10):\n",
    "    axes[i].imshow(dc_train.iloc[idx[i],:].values.reshape(28,28), cmap='gray')\n",
    "    axes[i].axis('off') # hide the axes ticks\n",
    "    axes[i].set_title(str(int(dc_label[idx[i]])), color= 'black', fontsize=25)\n",
    "plt.show()\n",
    "print(dc_train.shape)"
   ]
  },
  {
   "cell_type": "markdown",
   "id": "f6a23cde",
   "metadata": {},
   "source": [
    "### Importing scikit-learn library to build and train the model"
   ]
  },
  {
   "cell_type": "code",
   "execution_count": 211,
   "id": "3792841a",
   "metadata": {},
   "outputs": [],
   "source": [
    "from sklearn import metrics\n",
    "from sklearn.metrics import confusion_matrix\n",
    "from sklearn.svm import SVC\n",
    "\n",
    "from sklearn.preprocessing import scale\n",
    "from sklearn.model_selection import train_test_split"
   ]
  },
  {
   "cell_type": "code",
   "execution_count": 212,
   "id": "1c2f3f48",
   "metadata": {},
   "outputs": [],
   "source": [
    "# Preprocessing the data by scaling/standartisize the features\n",
    "X_scaled = scale(dc_train)\n",
    "\n",
    "# Randomizing the training set into training- and testing-subset, because we know the outcome (label/digit)\n",
    "X_train, X_test, Y_train, Y_test = train_test_split(X_scaled, dc_label, train_size=0.2, test_size=0.8, random_state=101)"
   ]
  },
  {
   "cell_type": "code",
   "execution_count": 213,
   "id": "f914158b",
   "metadata": {
    "scrolled": true
   },
   "outputs": [
    {
     "name": "stdout",
     "output_type": "stream",
     "text": [
      "X_train shape: (8400, 784)\n",
      "Y_train shape: (8400,)\n",
      "X_test shape: (33600, 784)\n",
      "Y_test shape: (33600,)\n"
     ]
    }
   ],
   "source": [
    "print('X_train shape:',X_train.shape)\n",
    "print('Y_train shape:',Y_train.shape)\n",
    "print('X_test shape:',X_test.shape)\n",
    "print('Y_test shape:',Y_test.shape)"
   ]
  },
  {
   "cell_type": "code",
   "execution_count": 228,
   "id": "c6c3f8b5",
   "metadata": {},
   "outputs": [],
   "source": [
    "# The whole training-set consisted of 42.000 digits; now divided into \n",
    "# 80%=33.600=training-sbuset, 20%=8.400=training_test-subset"
   ]
  },
  {
   "cell_type": "markdown",
   "id": "abd6659e",
   "metadata": {},
   "source": [
    "## Building the Model"
   ]
  },
  {
   "cell_type": "markdown",
   "id": "a9b35c81",
   "metadata": {},
   "source": [
    "### 1st try with a linear model:"
   ]
  },
  {
   "cell_type": "code",
   "execution_count": 215,
   "id": "2f50c42e",
   "metadata": {},
   "outputs": [],
   "source": [
    "# Setting up the model\n",
    "model_linear = SVC(kernel='linear')\n",
    "\n",
    "# Training the model\n",
    "model_linear.fit(X_train, Y_train)\n",
    "\n",
    "# Predicting the outcome based on test-subset\n",
    "y_pred = model_linear.predict(X_test)"
   ]
  },
  {
   "cell_type": "code",
   "execution_count": 216,
   "id": "41091372",
   "metadata": {},
   "outputs": [
    {
     "name": "stdout",
     "output_type": "stream",
     "text": [
      "accuracy: 0.913125 \n",
      "\n",
      "[[3188    0   10    5   11   20   32    3   15    1]\n",
      " [   0 3677   14   11    5    7    4    8   30    4]\n",
      " [  36   29 3027   54   55   10   30   42   48   12]\n",
      " [  13   12  104 3051    9  181    5   21   54   25]\n",
      " [   8   14   33    2 3057    4   25   31    6  110]\n",
      " [  30   23   29  136   44 2622   44   12   72   27]\n",
      " [  26   11   44    4   28   33 3113    0   18    0]\n",
      " [   7   24   36   19   59    9    2 3210    4  134]\n",
      " [  13   46   50  120   21  110   30   18 2843   21]\n",
      " [  19   17   21   22  172   20    4  161   26 2893]]\n"
     ]
    }
   ],
   "source": [
    "# Visualizing and getting data of the outcome (confusion matrix, accuracy, precision & recall)\n",
    "\n",
    "# Calculation the accuracy\n",
    "print(\"accuracy:\", metrics.accuracy_score(y_true=Y_test, y_pred=y_pred), \"\\n\")\n",
    "\n",
    "# Printing the confusion matrix\n",
    "print(metrics.confusion_matrix(y_true=Y_test, y_pred=y_pred))"
   ]
  },
  {
   "cell_type": "code",
   "execution_count": 217,
   "id": "3b8062fe",
   "metadata": {},
   "outputs": [
    {
     "name": "stdout",
     "output_type": "stream",
     "text": [
      "              precision    recall  f1-score   support\n",
      "\n",
      "           0       0.95      0.97      0.96      3285\n",
      "           1       0.95      0.98      0.97      3760\n",
      "           2       0.90      0.91      0.90      3343\n",
      "           3       0.89      0.88      0.88      3475\n",
      "           4       0.88      0.93      0.91      3290\n",
      "           5       0.87      0.86      0.87      3039\n",
      "           6       0.95      0.95      0.95      3277\n",
      "           7       0.92      0.92      0.92      3504\n",
      "           8       0.91      0.87      0.89      3272\n",
      "           9       0.90      0.86      0.88      3355\n",
      "\n",
      "    accuracy                           0.91     33600\n",
      "   macro avg       0.91      0.91      0.91     33600\n",
      "weighted avg       0.91      0.91      0.91     33600\n",
      "\n"
     ]
    }
   ],
   "source": [
    "# Getting precision, recall & f1-score\n",
    "\n",
    "scores=metrics.classification_report(Y_test, y_pred, labels=[0, 1, 2, 3, 4, 5, 6, 7, 8, 9])\n",
    "print(scores)"
   ]
  },
  {
   "cell_type": "code",
   "execution_count": 218,
   "id": "6f34edcc",
   "metadata": {},
   "outputs": [],
   "source": [
    "#  ≈ 91% accuracy/ weighted avg precision, refall & f1-score. "
   ]
  },
  {
   "cell_type": "markdown",
   "id": "47fc9d1b",
   "metadata": {},
   "source": [
    "### 2nd try with a non- linear model and a poly kernel"
   ]
  },
  {
   "cell_type": "code",
   "execution_count": 219,
   "id": "706912c0",
   "metadata": {},
   "outputs": [],
   "source": [
    "# C=1, default value of gamma\n",
    "\n",
    "# Setting up the model\n",
    "non_linear_model_poly = SVC(kernel='poly')\n",
    "\n",
    "# Training the model\n",
    "non_linear_model_poly.fit(X_train, Y_train)\n",
    "\n",
    "# Predictiing the outcome based on test-subset\n",
    "y_pred = non_linear_model_poly.predict(X_test)"
   ]
  },
  {
   "cell_type": "code",
   "execution_count": 220,
   "id": "3c9bed3c",
   "metadata": {},
   "outputs": [
    {
     "name": "stdout",
     "output_type": "stream",
     "text": [
      "accuracy: 0.8822619047619048 \n",
      "\n",
      "[[2927    0    9    3   43   11   27    0  262    3]\n",
      " [   1 3681   11    2   12    0    6    0   45    2]\n",
      " [  15   18 2562   31  152    2   10   23  520   10]\n",
      " [   0   16   23 2921   28   40    3   15  387   42]\n",
      " [   3    8   14    0 3110    8    4    5   13  125]\n",
      " [   6    1    5   68   76 2429   29    7  377   41]\n",
      " [  17    8    9    0  101   45 2943    2  152    0]\n",
      " [   1   34    8    8  155    1    0 2918   77  302]\n",
      " [   3   16    7   29   25   39    3    5 3128   17]\n",
      " [   5   11    1   17  166    8    0   41   81 3025]]\n"
     ]
    }
   ],
   "source": [
    "# Visualizing and getting data of the outcome (confusion matrix, accuracy)\n",
    "\n",
    "# Calculation the accuracy\n",
    "print(\"accuracy:\", metrics.accuracy_score(y_true=Y_test, y_pred=y_pred), \"\\n\")\n",
    "\n",
    "# Printing the confusion matrix\n",
    "print(metrics.confusion_matrix(y_true=Y_test, y_pred=y_pred))"
   ]
  },
  {
   "cell_type": "code",
   "execution_count": 221,
   "id": "c42594f5",
   "metadata": {},
   "outputs": [],
   "source": [
    "# The accuracy is lower than the linear model. So let's try the Rbf-Kernal"
   ]
  },
  {
   "cell_type": "markdown",
   "id": "48d0b2ae",
   "metadata": {},
   "source": [
    "### 3rd try with non- linear model and a rbf kernal"
   ]
  },
  {
   "cell_type": "code",
   "execution_count": 222,
   "id": "d2d5b14c",
   "metadata": {},
   "outputs": [],
   "source": [
    "# Setting up the model\n",
    "non_linear_model = SVC(kernel='rbf')\n",
    "\n",
    "# Training the model\n",
    "non_linear_model.fit(X_train, Y_train)\n",
    "\n",
    "# Predictiing the outcome based on test-subset\n",
    "y_pred = non_linear_model.predict(X_test)"
   ]
  },
  {
   "cell_type": "code",
   "execution_count": 223,
   "id": "10b87d83",
   "metadata": {},
   "outputs": [
    {
     "name": "stdout",
     "output_type": "stream",
     "text": [
      "accuracy: 0.9396130952380952 \n",
      "\n",
      "[[3195    0   22    6    4    9   32    4   13    0]\n",
      " [   0 3690   23   13    7    2    7    6    8    4]\n",
      " [  15   14 3146   31   31    5   18   37   41    5]\n",
      " [   3    8   96 3192    5   72    6   30   43   20]\n",
      " [   3    7   57    1 3095   10   20   24    6   67]\n",
      " [  15    9   40   66   15 2780   50   15   31   18]\n",
      " [  18    5   48    1   11   31 3149    2   12    0]\n",
      " [   6   21   72   11   23    3    0 3284    3   81]\n",
      " [  13   24   42   63   14   63   22   19 2994   18]\n",
      " [  12   10   42   39   80    6    0   96   24 3046]]\n"
     ]
    }
   ],
   "source": [
    "# Visualizing and getting data of the outcome (confusion matrix, accuracy, precision & recall)\n",
    "\n",
    "# Calculation the accuracy\n",
    "print(\"accuracy:\", metrics.accuracy_score(y_true=Y_test, y_pred=y_pred), \"\\n\")\n",
    "\n",
    "# Printing the confusion matrix\n",
    "print(metrics.confusion_matrix(y_true=Y_test, y_pred=y_pred))"
   ]
  },
  {
   "cell_type": "code",
   "execution_count": 224,
   "id": "6b1999c7",
   "metadata": {},
   "outputs": [
    {
     "name": "stdout",
     "output_type": "stream",
     "text": [
      "              precision    recall  f1-score   support\n",
      "\n",
      "           0       0.97      0.97      0.97      3285\n",
      "           1       0.97      0.98      0.98      3760\n",
      "           2       0.88      0.94      0.91      3343\n",
      "           3       0.93      0.92      0.93      3475\n",
      "           4       0.94      0.94      0.94      3290\n",
      "           5       0.93      0.91      0.92      3039\n",
      "           6       0.95      0.96      0.96      3277\n",
      "           7       0.93      0.94      0.94      3504\n",
      "           8       0.94      0.92      0.93      3272\n",
      "           9       0.93      0.91      0.92      3355\n",
      "\n",
      "    accuracy                           0.94     33600\n",
      "   macro avg       0.94      0.94      0.94     33600\n",
      "weighted avg       0.94      0.94      0.94     33600\n",
      "\n"
     ]
    }
   ],
   "source": [
    "# Getting precision, recall & f1-score\n",
    "\n",
    "scores=metrics.classification_report(Y_test, y_pred, labels=[0, 1, 2, 3, 4, 5, 6, 7, 8, 9])\n",
    "print(scores)"
   ]
  },
  {
   "cell_type": "code",
   "execution_count": 226,
   "id": "53e8f9b4",
   "metadata": {},
   "outputs": [],
   "source": [
    "#  ≈ 94% accuracy/ weighted avg precision, refall & f1-score is the best from the approaches above. \n",
    "#        So let's go with it"
   ]
  },
  {
   "cell_type": "code",
   "execution_count": null,
   "id": "7eb603f1",
   "metadata": {},
   "outputs": [],
   "source": []
  }
 ],
 "metadata": {
  "kernelspec": {
   "display_name": "Python 3 (ipykernel)",
   "language": "python",
   "name": "python3"
  },
  "language_info": {
   "codemirror_mode": {
    "name": "ipython",
    "version": 3
   },
   "file_extension": ".py",
   "mimetype": "text/x-python",
   "name": "python",
   "nbconvert_exporter": "python",
   "pygments_lexer": "ipython3",
   "version": "3.9.7"
  }
 },
 "nbformat": 4,
 "nbformat_minor": 5
}
